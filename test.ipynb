{
 "cells": [
  {
   "cell_type": "code",
   "execution_count": 1,
   "id": "fe7c31e6-0032-48cb-9b00-5634f159fa91",
   "metadata": {},
   "outputs": [],
   "source": [
    "import cv2\n",
    "import sys\n",
    "import torch"
   ]
  },
  {
   "cell_type": "code",
   "execution_count": 3,
   "id": "49232a84-18b8-4eb1-afaa-c7973ae5701d",
   "metadata": {
    "editable": true,
    "slideshow": {
     "slide_type": ""
    },
    "tags": []
   },
   "outputs": [],
   "source": [
    "from util.load_models import load_netArc, load_face_swap_model, load_insightface_model"
   ]
  },
  {
   "cell_type": "code",
   "execution_count": 4,
   "id": "2b238540-15c3-461c-9ed2-e91debe27264",
   "metadata": {
    "editable": true,
    "slideshow": {
     "slide_type": ""
    },
    "tags": []
   },
   "outputs": [],
   "source": [
    "device = torch.device(\"cuda:0\" if torch.cuda.is_available() else \"cpu\")"
   ]
  },
  {
   "cell_type": "code",
   "execution_count": 6,
   "id": "f654a72c-688e-4551-8594-da9eed9a7741",
   "metadata": {
    "scrolled": true
   },
   "outputs": [
    {
     "name": "stdout",
     "output_type": "stream",
     "text": [
      "------------ Options -------------\n",
      "Arc_path: arcface_model/arcface_checkpoint.tar\n",
      "aspect_ratio: 1.0\n",
      "batchSize: 8\n",
      "checkpoints_dir: ./checkpoints\n",
      "cluster_path: features_clustered_010.npy\n",
      "crop_size: 512\n",
      "data_type: 32\n",
      "dataroot: ./datasets/cityscapes/\n",
      "display_winsize: 512\n",
      "engine: None\n",
      "export_onnx: None\n",
      "feat_num: 3\n",
      "fineSize: 512\n",
      "fp16: False\n",
      "gpu_ids: [0]\n",
      "how_many: 50\n",
      "id_thres: 0.03\n",
      "image_size: 224\n",
      "input_nc: 3\n",
      "instance_feat: False\n",
      "isTrain: False\n",
      "label_feat: False\n",
      "label_nc: 0\n",
      "latent_size: 512\n",
      "loadSize: 1024\n",
      "load_features: False\n",
      "local_rank: 0\n",
      "max_dataset_size: inf\n",
      "multisepcific_dir: ./demo_file/multispecific\n",
      "nThreads: 2\n",
      "n_blocks_global: 6\n",
      "n_blocks_local: 3\n",
      "n_clusters: 10\n",
      "n_downsample_E: 4\n",
      "n_downsample_global: 3\n",
      "n_local_enhancers: 1\n",
      "name: people\n",
      "nef: 16\n",
      "netG: global\n",
      "ngf: 64\n",
      "niter_fix_global: 0\n",
      "no_flip: False\n",
      "no_instance: False\n",
      "no_simswaplogo: False\n",
      "norm: batch\n",
      "norm_G: spectralspadesyncbatch3x3\n",
      "ntest: inf\n",
      "onnx: None\n",
      "output_nc: 3\n",
      "output_path: ./output/\n",
      "phase: test\n",
      "pic_a_path: G:/swap_data/ID/elon-musk-hero-image.jpeg\n",
      "pic_b_path: ./demo_file/multi_people.jpg\n",
      "pic_specific_path: ./crop_224/zrf.jpg\n",
      "resize_or_crop: scale_width\n",
      "results_dir: ./results/\n",
      "semantic_nc: 3\n",
      "serial_batches: False\n",
      "temp_path: ./temp_results\n",
      "tf_log: False\n",
      "use_dropout: False\n",
      "use_encoded_image: False\n",
      "use_mask: False\n",
      "verbose: False\n",
      "video_path: G:/swap_data/video/HSB_Demo_Trim.mp4\n",
      "which_epoch: latest\n",
      "-------------- End ----------------\n"
     ]
    }
   ],
   "source": [
    "from options.test_options import TestOptions\n",
    "\n",
    "sys.argv = sys.argv[:1]\n",
    "\n",
    "opt = TestOptions().parse() \n",
    "\n",
    "opt.use_mask = True\n",
    "opt.name = 'people'\n",
    "opt.Arc_path = './checkpoints/arcface_model/arcface_checkpoint.tar'\n",
    "opt.crop_size = 224"
   ]
  },
  {
   "cell_type": "code",
   "execution_count": 11,
   "id": "43f431ae-c02a-4ca1-8efc-ecc7802cd998",
   "metadata": {
    "editable": true,
    "scrolled": true,
    "slideshow": {
     "slide_type": ""
    },
    "tags": []
   },
   "outputs": [
    {
     "name": "stderr",
     "output_type": "stream",
     "text": [
      "/home/tides/FaceSwap/models/base_model.py:68: FutureWarning: You are using `torch.load` with `weights_only=False` (the current default value), which uses the default pickle module implicitly. It is possible to construct malicious pickle data which will execute arbitrary code during unpickling (See https://github.com/pytorch/pytorch/blob/main/SECURITY.md#untrusted-models for more details). In a future release, the default value for `weights_only` will be flipped to `True`. This limits the functions that could be executed during unpickling. Arbitrary objects will no longer be allowed to be loaded via this mode unless they are explicitly allowlisted by the user via `torch.serialization.add_safe_globals`. We recommend you start setting `weights_only=True` for any use case where you don't have full control of the loaded file. Please open an issue on GitHub for any issues related to this experimental feature.\n",
      "  network.load_state_dict(torch.load(save_path))\n"
     ]
    },
    {
     "name": "stdout",
     "output_type": "stream",
     "text": [
      "Applied providers: ['CUDAExecutionProvider', 'CPUExecutionProvider'], with options: {'CPUExecutionProvider': {}, 'CUDAExecutionProvider': {'sdpa_kernel': '0', 'use_tf32': '1', 'prefer_nhwc': '0', 'tunable_op_max_tuning_duration_ms': '0', 'enable_skip_layer_norm_strict_mode': '0', 'tunable_op_tuning_enable': '0', 'tunable_op_enable': '0', 'use_ep_level_unified_stream': '0', 'device_id': '0', 'has_user_compute_stream': '0', 'gpu_external_empty_cache': '0', 'cudnn_conv_algo_search': 'EXHAUSTIVE', 'cudnn_conv1d_pad_to_nc1d': '0', 'gpu_mem_limit': '18446744073709551615', 'gpu_external_alloc': '0', 'gpu_external_free': '0', 'arena_extend_strategy': 'kNextPowerOfTwo', 'do_copy_in_default_stream': '1', 'enable_cuda_graph': '0', 'user_compute_stream': '0', 'cudnn_conv_use_max_workspace': '1'}}\n",
      "find model: ./checkpoints/models/antelopev2/1k3d68.onnx landmark_3d_68 ['None', 3, 192, 192] 0.0 1.0\n",
      "Applied providers: ['CUDAExecutionProvider', 'CPUExecutionProvider'], with options: {'CPUExecutionProvider': {}, 'CUDAExecutionProvider': {'sdpa_kernel': '0', 'use_tf32': '1', 'prefer_nhwc': '0', 'tunable_op_max_tuning_duration_ms': '0', 'enable_skip_layer_norm_strict_mode': '0', 'tunable_op_tuning_enable': '0', 'tunable_op_enable': '0', 'use_ep_level_unified_stream': '0', 'device_id': '0', 'has_user_compute_stream': '0', 'gpu_external_empty_cache': '0', 'cudnn_conv_algo_search': 'EXHAUSTIVE', 'cudnn_conv1d_pad_to_nc1d': '0', 'gpu_mem_limit': '18446744073709551615', 'gpu_external_alloc': '0', 'gpu_external_free': '0', 'arena_extend_strategy': 'kNextPowerOfTwo', 'do_copy_in_default_stream': '1', 'enable_cuda_graph': '0', 'user_compute_stream': '0', 'cudnn_conv_use_max_workspace': '1'}}\n",
      "find model: ./checkpoints/models/antelopev2/2d106det.onnx landmark_2d_106 ['None', 3, 192, 192] 0.0 1.0\n",
      "Applied providers: ['CUDAExecutionProvider', 'CPUExecutionProvider'], with options: {'CPUExecutionProvider': {}, 'CUDAExecutionProvider': {'sdpa_kernel': '0', 'use_tf32': '1', 'prefer_nhwc': '0', 'tunable_op_max_tuning_duration_ms': '0', 'enable_skip_layer_norm_strict_mode': '0', 'tunable_op_tuning_enable': '0', 'tunable_op_enable': '0', 'use_ep_level_unified_stream': '0', 'device_id': '0', 'has_user_compute_stream': '0', 'gpu_external_empty_cache': '0', 'cudnn_conv_algo_search': 'EXHAUSTIVE', 'cudnn_conv1d_pad_to_nc1d': '0', 'gpu_mem_limit': '18446744073709551615', 'gpu_external_alloc': '0', 'gpu_external_free': '0', 'arena_extend_strategy': 'kNextPowerOfTwo', 'do_copy_in_default_stream': '1', 'enable_cuda_graph': '0', 'user_compute_stream': '0', 'cudnn_conv_use_max_workspace': '1'}}\n",
      "find model: ./checkpoints/models/antelopev2/genderage.onnx genderage ['None', 3, 96, 96] 0.0 1.0\n",
      "Applied providers: ['CUDAExecutionProvider', 'CPUExecutionProvider'], with options: {'CPUExecutionProvider': {}, 'CUDAExecutionProvider': {'sdpa_kernel': '0', 'use_tf32': '1', 'prefer_nhwc': '0', 'tunable_op_max_tuning_duration_ms': '0', 'enable_skip_layer_norm_strict_mode': '0', 'tunable_op_tuning_enable': '0', 'tunable_op_enable': '0', 'use_ep_level_unified_stream': '0', 'device_id': '0', 'has_user_compute_stream': '0', 'gpu_external_empty_cache': '0', 'cudnn_conv_algo_search': 'EXHAUSTIVE', 'cudnn_conv1d_pad_to_nc1d': '0', 'gpu_mem_limit': '18446744073709551615', 'gpu_external_alloc': '0', 'gpu_external_free': '0', 'arena_extend_strategy': 'kNextPowerOfTwo', 'do_copy_in_default_stream': '1', 'enable_cuda_graph': '0', 'user_compute_stream': '0', 'cudnn_conv_use_max_workspace': '1'}}\n",
      "find model: ./checkpoints/models/antelopev2/glintr100.onnx recognition ['None', 3, 112, 112] 127.5 127.5\n",
      "Applied providers: ['CUDAExecutionProvider', 'CPUExecutionProvider'], with options: {'CPUExecutionProvider': {}, 'CUDAExecutionProvider': {'sdpa_kernel': '0', 'use_tf32': '1', 'prefer_nhwc': '0', 'tunable_op_max_tuning_duration_ms': '0', 'enable_skip_layer_norm_strict_mode': '0', 'tunable_op_tuning_enable': '0', 'tunable_op_enable': '0', 'use_ep_level_unified_stream': '0', 'device_id': '0', 'has_user_compute_stream': '0', 'gpu_external_empty_cache': '0', 'cudnn_conv_algo_search': 'EXHAUSTIVE', 'cudnn_conv1d_pad_to_nc1d': '0', 'gpu_mem_limit': '18446744073709551615', 'gpu_external_alloc': '0', 'gpu_external_free': '0', 'arena_extend_strategy': 'kNextPowerOfTwo', 'do_copy_in_default_stream': '1', 'enable_cuda_graph': '0', 'user_compute_stream': '0', 'cudnn_conv_use_max_workspace': '1'}}\n",
      "find model: ./checkpoints/models/antelopev2/scrfd_10g_bnkps.onnx detection [1, 3, '?', '?'] 127.5 128.0\n",
      "set det-size: (640, 640)\n"
     ]
    }
   ],
   "source": [
    "netArc = load_netArc(opt.Arc_path, device)\n",
    "face_swap_model = load_face_swap_model(device, netArc, opt)\n",
    "detect_model = load_insightface_model(device)"
   ]
  },
  {
   "cell_type": "code",
   "execution_count": 12,
   "id": "1fcd9147-0a77-40ad-ba4d-f1ea672e3bf8",
   "metadata": {},
   "outputs": [],
   "source": [
    "source_image_path = 'demo_file/source_image/Iron_man.jpg'\n",
    "target_video_path = 'demo_file/target_video/jirou_anni.mp4'\n",
    "result_video_path = 'demo_file/result'"
   ]
  },
  {
   "cell_type": "markdown",
   "id": "792fc8aa-7af7-488f-9649-78bc804cbe08",
   "metadata": {},
   "source": [
    "## source图像处理"
   ]
  },
  {
   "cell_type": "code",
   "execution_count": 13,
   "id": "c2e101e8-1490-457f-aa44-df28976af73b",
   "metadata": {},
   "outputs": [],
   "source": [
    "source_image = cv2.imread(source_image_path)"
   ]
  },
  {
   "cell_type": "code",
   "execution_count": 14,
   "id": "bf4f62ef-67e0-40f1-8ec8-fd07929afc67",
   "metadata": {},
   "outputs": [
    {
     "name": "stderr",
     "output_type": "stream",
     "text": [
      "/data1/tides/new/miniconda3/envs/faceSwap/lib/python3.8/site-packages/insightface/utils/transform.py:68: FutureWarning: `rcond` parameter will change to the default of machine precision times ``max(M, N)`` where M and N are the input matrix dimensions.\n",
      "To use the future default and silence this warning we advise to pass `rcond=None`, to keep using the old, explicitly pass `rcond=-1`.\n",
      "  P = np.linalg.lstsq(X_homo, Y)[0].T # Affine matrix. 3 x 4\n"
     ]
    }
   ],
   "source": [
    "from util.face_process import crop_and_align_face\n",
    "from util.data_process import process_latent_id\n",
    "\n",
    "source_crop_align_image, source_M = crop_and_align_face(detect_model, source_image, opt.crop_size)\n",
    "latend_id = process_latent_id(source_crop_align_image, netArc, device)"
   ]
  },
  {
   "cell_type": "markdown",
   "id": "3b463165-379e-4660-b646-9a7b9fafc203",
   "metadata": {},
   "source": [
    "## target视频处理"
   ]
  },
  {
   "cell_type": "code",
   "execution_count": 15,
   "id": "0a5dd3a0-acc0-43ff-a57d-f29c15291df1",
   "metadata": {},
   "outputs": [],
   "source": [
    "target_video = cv2.VideoCapture(target_video_path)\n",
    "target_video.set(cv2.CAP_PROP_POS_FRAMES, 150)\n",
    "\n",
    "ret, frame = target_video.read()"
   ]
  },
  {
   "cell_type": "code",
   "execution_count": 16,
   "id": "23776566-2824-4e02-a687-31b937bccdf9",
   "metadata": {},
   "outputs": [],
   "source": [
    "target_crop_align_image, target_M = crop_and_align_face(detect_model, frame, opt.crop_size)"
   ]
  },
  {
   "cell_type": "code",
   "execution_count": 18,
   "id": "83a0d8b2-b566-4786-b0e8-925066e46635",
   "metadata": {},
   "outputs": [],
   "source": [
    "from util.data_process import process_image_tensor\n",
    "\n",
    "target_crop_align_tensor = process_image_tensor(target_crop_align_image)"
   ]
  },
  {
   "cell_type": "markdown",
   "id": "27587bcf-3ab7-4de0-8c07-7af620005655",
   "metadata": {},
   "source": [
    "## 人脸交换"
   ]
  },
  {
   "cell_type": "code",
   "execution_count": 19,
   "id": "fc5503d6-1afd-4257-802a-6ca4bca42252",
   "metadata": {},
   "outputs": [],
   "source": [
    "swap_result = face_swap_model(None, target_crop_align_tensor, latend_id, None, True)"
   ]
  },
  {
   "cell_type": "code",
   "execution_count": 20,
   "id": "c24b0539-de70-4dcb-81a9-3d794433f4f7",
   "metadata": {},
   "outputs": [
    {
     "data": {
      "text/plain": [
       "True"
      ]
     },
     "execution_count": 20,
     "metadata": {},
     "output_type": "execute_result"
    }
   ],
   "source": [
    "swap_result = swap_result.squeeze(0)  # 去掉 batch 维度\n",
    "swap_result = swap_result.permute(1, 2, 0) \n",
    "swap_result = swap_result.cpu()\n",
    "swap_result = (swap_result * 255).clamp(0, 255).byte().numpy()\n",
    "swap_result = swap_result[..., ::-1]\n",
    "cv2.imwrite('swap_result.jpg', swap_result)"
   ]
  },
  {
   "cell_type": "code",
   "execution_count": null,
   "id": "4447006d-f9f7-48a1-9a55-db103e05dad8",
   "metadata": {},
   "outputs": [],
   "source": []
  }
 ],
 "metadata": {
  "kernelspec": {
   "display_name": "Python (faceSwap)",
   "language": "python",
   "name": "faceswap"
  },
  "language_info": {
   "codemirror_mode": {
    "name": "ipython",
    "version": 3
   },
   "file_extension": ".py",
   "mimetype": "text/x-python",
   "name": "python",
   "nbconvert_exporter": "python",
   "pygments_lexer": "ipython3",
   "version": "3.8.20"
  }
 },
 "nbformat": 4,
 "nbformat_minor": 5
}
